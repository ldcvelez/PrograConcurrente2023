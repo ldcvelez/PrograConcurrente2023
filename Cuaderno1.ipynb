{
  "nbformat": 4,
  "nbformat_minor": 0,
  "metadata": {
    "colab": {
      "provenance": [],
      "authorship_tag": "ABX9TyPfNNgXeOhuDTlGHbyynfU8",
      "include_colab_link": true
    },
    "kernelspec": {
      "name": "python3",
      "display_name": "Python 3"
    },
    "language_info": {
      "name": "python"
    }
  },
  "cells": [
    {
      "cell_type": "markdown",
      "metadata": {
        "id": "view-in-github",
        "colab_type": "text"
      },
      "source": [
        "<a href=\"https://colab.research.google.com/github/ldcvelez/PrograConcurrente2023/blob/rama/Cuaderno1.ipynb\" target=\"_parent\"><img src=\"https://colab.research.google.com/assets/colab-badge.svg\" alt=\"Open In Colab\"/></a>"
      ]
    },
    {
      "cell_type": "markdown",
      "source": [
        "EJEMPLO\n"
      ],
      "metadata": {
        "id": "ETDpbIqPwmyE"
      }
    },
    {
      "cell_type": "code",
      "source": [
        "%%writefile programa1.cpp\n",
        "#include <iostream>\n",
        "using std::cout;\n",
        "\n",
        "int main (){\n",
        "    cout << \"Hola Mundo CPP!\";\n",
        "}"
      ],
      "metadata": {
        "colab": {
          "base_uri": "https://localhost:8080/"
        },
        "id": "xHU34pz7AHsB",
        "outputId": "436fcbcc-aa5d-4d32-8cd5-1222d27f211c"
      },
      "execution_count": null,
      "outputs": [
        {
          "output_type": "stream",
          "name": "stdout",
          "text": [
            "Writing programa1.cpp\n"
          ]
        }
      ]
    },
    {
      "cell_type": "code",
      "source": [
        "!g++ programa1.cpp && ./a.out"
      ],
      "metadata": {
        "colab": {
          "base_uri": "https://localhost:8080/"
        },
        "id": "aFtYTcZXOhC3",
        "outputId": "0707668d-4868-432a-ee1b-102c3d06a53b"
      },
      "execution_count": null,
      "outputs": [
        {
          "output_type": "stream",
          "name": "stdout",
          "text": [
            "Hola Mundo CPP!"
          ]
        }
      ]
    },
    {
      "cell_type": "code",
      "source": [],
      "metadata": {
        "id": "FA83IDg7Pg--"
      },
      "execution_count": null,
      "outputs": []
    },
    {
      "cell_type": "code",
      "source": [],
      "metadata": {
        "id": "PskuyXM9Piwu"
      },
      "execution_count": null,
      "outputs": []
    },
    {
      "cell_type": "code",
      "source": [
        "%%writefile programa2.cpp\n",
        "#include <cstring>\n",
        "#include <iostream>\n",
        "#include <map>\n",
        "#include <sstream>\n",
        "#include <sys/wait.h>\n",
        "#include <unistd.h>\n",
        "#include <vector>\n",
        "\n",
        "using namespace std;\n",
        "\n",
        "struct Node\n",
        "{\n",
        "  char letter;\n",
        "  pid_t pid;\n",
        "  pid_t parent;\n",
        "\n",
        "  Node(char letter_)\n",
        "  {\n",
        "    letter = letter_;\n",
        "    pid = getpid();\n",
        "    parent = getppid();\n",
        "  }\n",
        "\n",
        "  std::string toString()\n",
        "  {\n",
        "    std::stringstream aux;\n",
        "    aux << \"Process: \" << letter << \", PID: \" << pid << \", Parent PID: \" << parent;\n",
        "    return aux.str();\n",
        "  }\n",
        "};\n",
        "typedef struct Node Node;\n",
        "\n",
        "int main(int argc, char *argv[])\n",
        "{\n",
        "  map<char, vector<char>> nodes_map =\n",
        "  {\n",
        "    {'A', {'B', 'C'}},\n",
        "    {'B', {'D', 'E'}},\n",
        "    {'C', {'F'}},\n",
        "    {'E', {'G', 'H'}},\n",
        "  };\n",
        "\n",
        "  Node current = Node('A');\n",
        "  cout << current.toString() << endl;\n",
        "\n",
        "  vector<char>::iterator next_child = nodes_map[current.letter].begin();\n",
        "  vector<char>::iterator end = nodes_map[current.letter].end();\n",
        "\n",
        "  while (next_child != end)\n",
        "  {\n",
        "    pid_t new_child = fork();\n",
        "\n",
        "    if (new_child < 0)\n",
        "    {\n",
        "      cerr << \"Error: \" << strerror(errno) << endl;\n",
        "      return EXIT_FAILURE;\n",
        "    }\n",
        "\n",
        "    if (new_child == 0)\n",
        "    {\n",
        "      current = Node(*next_child);\n",
        "      cout << current.toString() << endl;\n",
        "\n",
        "      // Si el hijo tiene que crear mas nodos reiniciamos el iterador.\n",
        "      if (nodes_map.find(current.letter) != nodes_map.end())\n",
        "      {\n",
        "        next_child = nodes_map[current.letter].begin();\n",
        "        end = nodes_map[current.letter].end();\n",
        "        continue;\n",
        "      }\n",
        "\n",
        "      break; // Sino terminamos el loop.\n",
        "    }\n",
        "\n",
        "    next_child++;\n",
        "  }\n",
        "\n",
        "  if (nodes_map.find(current.letter) != nodes_map.end())\n",
        "  {\n",
        "    next_child = nodes_map[current.letter].begin();\n",
        "    for (; next_child != end; next_child++)\n",
        "    {\n",
        "      wait(NULL);\n",
        "    }\n",
        "  }\n",
        "  else\n",
        "  {\n",
        "    unsigned int time = 10;\n",
        "\n",
        "    if (argc > 1)\n",
        "    {\n",
        "      try\n",
        "      {\n",
        "        time = stoi(argv[1]);\n",
        "      }\n",
        "      catch(const invalid_argument& e)\n",
        "      {\n",
        "        cerr << \"Invalid time passed as parameter, using default time (\" << time << \" seconds).\" << endl;\n",
        "      }\n",
        "    }\n",
        "\n",
        "    sleep(time);\n",
        "  }\n",
        "\n",
        "  cout << \"Cerrando proceso: \" << current.letter << endl;\n",
        "\n",
        "  return EXIT_SUCCESS;\n",
        "}"
      ],
      "metadata": {
        "colab": {
          "base_uri": "https://localhost:8080/"
        },
        "id": "yenTMFtFPCs9",
        "outputId": "24804e55-c0f6-4b0a-b950-5e1324e9ca39"
      },
      "execution_count": null,
      "outputs": [
        {
          "output_type": "stream",
          "name": "stdout",
          "text": [
            "Writing programa2.cpp\n"
          ]
        }
      ]
    },
    {
      "cell_type": "code",
      "source": [
        "\n",
        "\n",
        "!g++ programa2.cpp && ./a.out"
      ],
      "metadata": {
        "colab": {
          "base_uri": "https://localhost:8080/"
        },
        "id": "J9u8oKamPGxM",
        "outputId": "4c1133e6-5992-4b70-cb70-a7f601982243"
      },
      "execution_count": null,
      "outputs": [
        {
          "output_type": "stream",
          "name": "stdout",
          "text": [
            "Process: A, PID: 36132, Parent PID: 2620\n",
            "Process: B, PID: 36142, Parent PID: 36132\n",
            "Process: C, PID: 36143, Parent PID: 36132\n",
            "Process: F, PID: 36145, Parent PID: 36143\n",
            "Process: E, PID: 36146, Parent PID: 36142\n",
            "Process: D, PID: 36144, Parent PID: 36142\n",
            "Process: H, PID: 36148, Parent PID: 36146\n",
            "Process: G, PID: 36147, Parent PID: 36146\n",
            "Cerrando proceso: F\n",
            "Cerrando proceso: D\n",
            "Cerrando proceso: H\n",
            "Cerrando proceso: G\n",
            "Cerrando proceso: C\n",
            "Cerrando proceso: E\n",
            "Cerrando proceso: B\n",
            "Cerrando proceso: A\n"
          ]
        }
      ]
    },
    {
      "cell_type": "code",
      "source": [
        "        System.out.println(\"A (PID: \");\n"
      ],
      "metadata": {
        "colab": {
          "base_uri": "https://localhost:8080/",
          "height": 175
        },
        "id": "i6AeaRgFXeV5",
        "outputId": "b07c637b-14b5-4319-990d-11bc2b9adb55"
      },
      "execution_count": null,
      "outputs": [
        {
          "output_type": "error",
          "ename": "NameError",
          "evalue": "ignored",
          "traceback": [
            "\u001b[0;31m---------------------------------------------------------------------------\u001b[0m",
            "\u001b[0;31mNameError\u001b[0m                                 Traceback (most recent call last)",
            "\u001b[0;32m<ipython-input-17-908a020c7700>\u001b[0m in \u001b[0;36m<cell line: 1>\u001b[0;34m()\u001b[0m\n\u001b[0;32m----> 1\u001b[0;31m \u001b[0mSystem\u001b[0m\u001b[0;34m.\u001b[0m\u001b[0mout\u001b[0m\u001b[0;34m.\u001b[0m\u001b[0mprintln\u001b[0m\u001b[0;34m(\u001b[0m\u001b[0;34m\"A (PID: \"\u001b[0m\u001b[0;34m)\u001b[0m\u001b[0;34m;\u001b[0m\u001b[0;34m\u001b[0m\u001b[0;34m\u001b[0m\u001b[0m\n\u001b[0m",
            "\u001b[0;31mNameError\u001b[0m: name 'System' is not defined"
          ]
        }
      ]
    },
    {
      "cell_type": "code",
      "source": [
        "java -version\n"
      ],
      "metadata": {
        "colab": {
          "base_uri": "https://localhost:8080/",
          "height": 175
        },
        "id": "uqUrMAvmXwug",
        "outputId": "1cf78613-12ae-450a-ccf8-a751ee291744"
      },
      "execution_count": null,
      "outputs": [
        {
          "output_type": "error",
          "ename": "NameError",
          "evalue": "ignored",
          "traceback": [
            "\u001b[0;31m---------------------------------------------------------------------------\u001b[0m",
            "\u001b[0;31mNameError\u001b[0m                                 Traceback (most recent call last)",
            "\u001b[0;32m<ipython-input-16-97be79807d8b>\u001b[0m in \u001b[0;36m<cell line: 1>\u001b[0;34m()\u001b[0m\n\u001b[0;32m----> 1\u001b[0;31m \u001b[0mjava\u001b[0m \u001b[0;34m-\u001b[0m\u001b[0mversion\u001b[0m\u001b[0;34m\u001b[0m\u001b[0;34m\u001b[0m\u001b[0m\n\u001b[0m",
            "\u001b[0;31mNameError\u001b[0m: name 'java' is not defined"
          ]
        }
      ]
    },
    {
      "cell_type": "code",
      "source": [
        "import os       #importing os to set environment variable\n",
        "def install_java():\n",
        "  !apt-get install -y openjdk-8-jdk-headless -qq > /dev/null      #install openjdk\n",
        "  os.environ[\"JAVA_HOME\"] = \"/usr/lib/jvm/java-8-openjdk-amd64\"     #set environment variable\n",
        "  !java -version       #check java version\n",
        "install_java()"
      ],
      "metadata": {
        "colab": {
          "base_uri": "https://localhost:8080/"
        },
        "id": "qCztdhOpXlB_",
        "outputId": "6817f953-69c0-4b53-b792-9231e5c02d9d"
      },
      "execution_count": null,
      "outputs": [
        {
          "output_type": "stream",
          "name": "stdout",
          "text": [
            "openjdk version \"11.0.20.1\" 2023-08-24\n",
            "OpenJDK Runtime Environment (build 11.0.20.1+1-post-Ubuntu-0ubuntu122.04)\n",
            "OpenJDK 64-Bit Server VM (build 11.0.20.1+1-post-Ubuntu-0ubuntu122.04, mixed mode, sharing)\n"
          ]
        }
      ]
    }
  ]
}